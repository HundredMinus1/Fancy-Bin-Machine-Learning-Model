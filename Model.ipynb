{
  "cells": [
    {
      "cell_type": "markdown",
      "metadata": {
        "id": "o7Q6bqiS3J4B"
      },
      "source": [
        "**Importing Library and Installing Packages**"
      ]
    },
    {
      "cell_type": "code",
      "execution_count": 14,
      "metadata": {
        "colab": {
          "base_uri": "https://localhost:8080/"
        },
        "id": "NjzgHwBsTd4u",
        "outputId": "667eaa88-208b-42d3-fa19-5a9001b30ff2"
      },
      "outputs": [
        {
          "name": "stdout",
          "output_type": "stream",
          "text": [
            "Looking in indexes: https://pypi.org/simple, https://us-python.pkg.dev/colab-wheels/public/simple/\n",
            "Requirement already satisfied: gdown in /usr/local/lib/python3.7/dist-packages (4.4.0)\n",
            "Requirement already satisfied: beautifulsoup4 in /usr/local/lib/python3.7/dist-packages (from gdown) (4.6.3)\n",
            "Requirement already satisfied: six in /usr/local/lib/python3.7/dist-packages (from gdown) (1.15.0)\n",
            "Requirement already satisfied: tqdm in /usr/local/lib/python3.7/dist-packages (from gdown) (4.64.0)\n",
            "Requirement already satisfied: filelock in /usr/local/lib/python3.7/dist-packages (from gdown) (3.7.0)\n",
            "Requirement already satisfied: requests[socks] in /usr/local/lib/python3.7/dist-packages (from gdown) (2.23.0)\n",
            "Requirement already satisfied: urllib3!=1.25.0,!=1.25.1,<1.26,>=1.21.1 in /usr/local/lib/python3.7/dist-packages (from requests[socks]->gdown) (1.24.3)\n",
            "Requirement already satisfied: idna<3,>=2.5 in /usr/local/lib/python3.7/dist-packages (from requests[socks]->gdown) (2.10)\n",
            "Requirement already satisfied: chardet<4,>=3.0.2 in /usr/local/lib/python3.7/dist-packages (from requests[socks]->gdown) (3.0.4)\n",
            "Requirement already satisfied: certifi>=2017.4.17 in /usr/local/lib/python3.7/dist-packages (from requests[socks]->gdown) (2022.5.18.1)\n",
            "Requirement already satisfied: PySocks!=1.5.7,>=1.5.6 in /usr/local/lib/python3.7/dist-packages (from requests[socks]->gdown) (1.7.1)\n",
            "Looking in indexes: https://pypi.org/simple, https://us-python.pkg.dev/colab-wheels/public/simple/\n",
            "Requirement already satisfied: kaggle in /usr/local/lib/python3.7/dist-packages (1.5.12)\n",
            "Requirement already satisfied: urllib3 in /usr/local/lib/python3.7/dist-packages (from kaggle) (1.24.3)\n",
            "Requirement already satisfied: certifi in /usr/local/lib/python3.7/dist-packages (from kaggle) (2022.5.18.1)\n",
            "Requirement already satisfied: python-slugify in /usr/local/lib/python3.7/dist-packages (from kaggle) (6.1.2)\n",
            "Requirement already satisfied: requests in /usr/local/lib/python3.7/dist-packages (from kaggle) (2.23.0)\n",
            "Requirement already satisfied: tqdm in /usr/local/lib/python3.7/dist-packages (from kaggle) (4.64.0)\n",
            "Requirement already satisfied: python-dateutil in /usr/local/lib/python3.7/dist-packages (from kaggle) (2.8.2)\n",
            "Requirement already satisfied: six>=1.10 in /usr/local/lib/python3.7/dist-packages (from kaggle) (1.15.0)\n",
            "Requirement already satisfied: text-unidecode>=1.3 in /usr/local/lib/python3.7/dist-packages (from python-slugify->kaggle) (1.3)\n",
            "Requirement already satisfied: idna<3,>=2.5 in /usr/local/lib/python3.7/dist-packages (from requests->kaggle) (2.10)\n",
            "Requirement already satisfied: chardet<4,>=3.0.2 in /usr/local/lib/python3.7/dist-packages (from requests->kaggle) (3.0.4)\n",
            "Looking in indexes: https://pypi.org/simple, https://us-python.pkg.dev/colab-wheels/public/simple/\n",
            "Collecting patool\n",
            "  Downloading patool-1.12-py2.py3-none-any.whl (77 kB)\n",
            "\u001b[K     |████████████████████████████████| 77 kB 3.2 MB/s \n",
            "\u001b[?25hInstalling collected packages: patool\n",
            "Successfully installed patool-1.12\n"
          ]
        }
      ],
      "source": [
        "!pip install kaggle"
      ]
    },
    {
      "cell_type": "code",
      "execution_count": 15,
      "metadata": {
        "id": "M7heI-yv2_X8"
      },
      "outputs": [],
      "source": [
        "import os\n",
        "import zipfile\n",
        "import matplotlib.pyplot as plt\n",
        "import tensorflow as tf\n",
        "import pathlib\n",
        "from tensorflow.keras import layers\n",
        "from tensorflow.keras import Model\n",
        "from tensorflow.keras.preprocessing.image import ImageDataGenerator"
      ]
    },
    {
      "cell_type": "markdown",
      "metadata": {
        "id": "fLmuKcaQGqls"
      },
      "source": [
        "**Download Dataset**"
      ]
    },
    {
      "cell_type": "code",
      "execution_count": 16,
      "metadata": {
        "colab": {
          "base_uri": "https://localhost:8080/"
        },
        "id": "aDExVnzuGn_9",
        "outputId": "57bcd6cf-1bd8-4733-8078-d9d040e4a4ae"
      },
      "outputs": [
        {
          "name": "stdout",
          "output_type": "stream",
          "text": [
            "Traceback (most recent call last):\n",
            "  File \"/usr/local/bin/kaggle\", line 5, in <module>\n",
            "    from kaggle.cli import main\n",
            "  File \"/usr/local/lib/python3.7/dist-packages/kaggle/__init__.py\", line 23, in <module>\n",
            "    api.authenticate()\n",
            "  File \"/usr/local/lib/python3.7/dist-packages/kaggle/api/kaggle_api_extended.py\", line 166, in authenticate\n",
            "    self.config_file, self.config_dir))\n",
            "OSError: Could not find kaggle.json. Make sure it's located in /root/.kaggle. Or use the environment method.\n"
          ]
        }
      ],
      "source": [
        "!kaggle datasets download techsash/waste-classification-data"
      ]
    },
    {
      "cell_type": "markdown",
      "metadata": {
        "id": "LvT4yTbz3Wal"
      },
      "source": [
        "**Saving images**"
      ]
    },
    {
      "cell_type": "code",
      "execution_count": 17,
      "metadata": {
        "id": "ziOHH68c4yEF"
      },
      "outputs": [],
      "source": [
        "path = os.getcwd()\n",
        "\n",
        "train_dir = path + '/TRAIN'\n",
        "validation_dir = path + '/TEST'\n",
        "\n",
        "train_organic_dir = os.path.join(train_dir, 'O')\n",
        "train_anorganic_dir = os.path.join(train_dir, 'R')\n",
        "\n",
        "validation_organic_dir = os.path.join(validation_dir, 'O')\n",
        "validation_anorganic_dir = os.path.join(validation_dir, 'R')"
      ]
    },
    {
      "cell_type": "markdown",
      "metadata": {
        "id": "98KNrdVM3fkh"
      },
      "source": [
        "**Training and Validation Generators**"
      ]
    },
    {
      "cell_type": "code",
      "execution_count": 18,
      "metadata": {
        "colab": {
          "base_uri": "https://localhost:8080/"
        },
        "id": "EJqYkfnz4y9H",
        "outputId": "e2da483c-966b-4afe-d13c-baeda25183db"
      },
      "outputs": [
        {
          "name": "stdout",
          "output_type": "stream",
          "text": [
            "Found 22564 images belonging to 2 classes.\n",
            "Found 2513 images belonging to 2 classes.\n"
          ]
        }
      ],
      "source": [
        "def train_val_generators(train_dir, validation_dir):\n",
        "\n",
        "  train_datagen = ImageDataGenerator(rescale=1/255)\n",
        "  train_generator = train_datagen.flow_from_directory(directory=train_dir,\n",
        "                                                      batch_size=64,\n",
        "                                                      class_mode='binary',\n",
        "                                                      target_size=(150, 150))\n",
        "  \n",
        "  validation_datagen = ImageDataGenerator(rescale=1/255)\n",
        "\n",
        "  validation_generator = validation_datagen.flow_from_directory(directory=validation_dir,\n",
        "                                                                batch_size=32,\n",
        "                                                                class_mode='binary',\n",
        "                                                                target_size=(150, 150))\n",
        "\n",
        "  return train_generator, validation_generator\n",
        "\n",
        "train_generator, validation_generator = train_val_generators(train_dir, validation_dir)"
      ]
    },
    {
      "cell_type": "markdown",
      "metadata": {
        "id": "aM_hcgi26v26"
      },
      "source": [
        "**Model** (Result 92%)"
      ]
    },
    {
      "cell_type": "code",
      "execution_count": 19,
      "metadata": {
        "id": "BNPbg0NiEti1"
      },
      "outputs": [],
      "source": [
        "model = tf.keras.Sequential([\n",
        "    # Input_shape = (150, 150, 3)\n",
        "    tf.keras.layers.Conv2D(32, (3,3), activation='relu' ,input_shape=(150, 150, 3)),\n",
        "    # Pool_size = (2,2)\n",
        "    tf.keras.layers.MaxPooling2D(2, 2),\n",
        "     \n",
        "    # Flatten the output layer to 1 dimension\n",
        "    tf.keras.layers.Flatten(),\n",
        "\n",
        "    # Output arrays of size 64\n",
        "    tf.keras.layers.Dense(64, activation='relu',kernel_initializer='he_uniform'),\n",
        "    tf.keras.layers.Dropout(0.2),\n",
        "    tf.keras.layers.BatchNormalization(),\n",
        "    tf.keras.layers.Dense(28, activation='relu',kernel_initializer='he_uniform'),\n",
        "    tf.keras.layers.Dropout(0.2),\n",
        "      \n",
        "    # Using activation sigmoid for 2 clases\n",
        "    tf.keras.layers.Dense(1, activation='sigmoid')])\n",
        "\n",
        "# Optimizer using default value\n",
        "model.compile(optimizer='adam',\n",
        "              loss='binary_crossentropy',\n",
        "              metrics=[tf.keras.metrics.AUC(name = 'accuracy')])"
      ]
    },
    {
      "cell_type": "markdown",
      "metadata": {
        "id": "CfzIF1rX32_1"
      },
      "source": [
        "**Callbacks** (Optional)"
      ]
    },
    {
      "cell_type": "code",
      "execution_count": 20,
      "metadata": {
        "id": "t2HkSOuU5u4y"
      },
      "outputs": [],
      "source": [
        "class myCallback(tf.keras.callbacks.Callback):\n",
        "           \n",
        "        def on_epoch_end(self, epoch, logs={}):\n",
        "            if (logs.get('accuracy')) > 0.99: \n",
        "                print(\"\\nReached 99% accuracy so cancelling training!\")    \n",
        "                self.model.stop_training = True\n",
        "\n",
        "# Initiate callbacks\n",
        "callbacks = myCallback()"
      ]
    },
    {
      "cell_type": "markdown",
      "metadata": {
        "id": "GvpM47xI380G"
      },
      "source": [
        "**Training**"
      ]
    },
    {
      "cell_type": "code",
      "execution_count": null,
      "metadata": {
        "colab": {
          "base_uri": "https://localhost:8080/"
        },
        "id": "B7x5UZDE6Ctd",
        "outputId": "22d1c873-2df0-4ccf-b563-7d6374c70fef"
      },
      "outputs": [
        {
          "name": "stdout",
          "output_type": "stream",
          "text": [
            "Epoch 1/10\n",
            "353/353 [==============================] - 371s 1s/step - loss: 0.4722 - accuracy: 0.8592 - val_loss: 0.3396 - val_accuracy: 0.9367\n",
            "Epoch 2/10\n",
            "353/353 [==============================] - 334s 946ms/step - loss: 0.4120 - accuracy: 0.8939 - val_loss: 0.4051 - val_accuracy: 0.9249\n",
            "Epoch 3/10\n",
            "353/353 [==============================] - 329s 933ms/step - loss: 0.3769 - accuracy: 0.9116 - val_loss: 0.3190 - val_accuracy: 0.9399\n",
            "Epoch 4/10\n",
            "353/353 [==============================] - 329s 931ms/step - loss: 0.3154 - accuracy: 0.9385 - val_loss: 0.3582 - val_accuracy: 0.9329\n",
            "Epoch 5/10\n",
            "239/353 [===================>..........] - ETA: 1:42 - loss: 0.2386 - accuracy: 0.9646"
          ]
        }
      ],
      "source": [
        "history = model.fit(train_generator, validation_data=validation_generator, epochs=10, callbacks=callbacks) "
      ]
    },
    {
      "cell_type": "markdown",
      "metadata": {
        "id": "oBMt4Y8x6g4J"
      },
      "source": [
        "**CNN Model Baseline**"
      ]
    },
    {
      "cell_type": "code",
      "execution_count": null,
      "metadata": {
        "id": "kbOyN3GR6hOv"
      },
      "outputs": [],
      "source": [
        "print(model.summary())"
      ]
    },
    {
      "cell_type": "markdown",
      "metadata": {
        "id": "8jwdPrqa7cNe"
      },
      "source": [
        "Convert to **Tflite** and **h5** (Optional)"
      ]
    },
    {
      "cell_type": "code",
      "execution_count": null,
      "metadata": {
        "id": "ohqDJ1uyYbup"
      },
      "outputs": [],
      "source": [
        "export_dir = 'saved_model/1'\n",
        "\n",
        "tf.saved_model.save(model,export_dir=export_dir)\n",
        "\n",
        "# Mode of optimization\n",
        "mode = \"Default\" \n",
        "\n",
        "if mode == 'Storage':\n",
        "    optimization = tf.lite.Optimize.OPTIMIZE_FOR_SIZE\n",
        "elif mode == 'Speed':\n",
        "    optimization = tf.lite.Optimize.OPTIMIZE_FOR_LATENCY\n",
        "else:\n",
        "    optimization = tf.lite.Optimize.DEFAULT\n",
        "\n",
        "converter = tf.lite.TFLiteConverter.from_saved_model(export_dir)\n",
        "\n",
        "# Set the optimzations\n",
        "converter.optimizations = [optimization]\n",
        "\n",
        "# Invoke the converter to finally generate the TFLite model\n",
        "tflite_model = converter.convert()\n",
        "\n",
        "tflite_model_file = pathlib.Path('./model.tflite')\n",
        "tflite_model_file.write_bytes(tflite_model)\n",
        "\n",
        "# Converting to h5 model\n",
        "tf.keras.models.save_model(model, \"./model.h5\")"
      ]
    }
  ],
  "metadata": {
    "colab": {
      "collapsed_sections": [],
      "name": "Model fix.ipynb",
      "provenance": []
    },
    "kernelspec": {
      "display_name": "Python 3",
      "name": "python3"
    },
    "language_info": {
      "name": "python"
    }
  },
  "nbformat": 4,
  "nbformat_minor": 0
}
